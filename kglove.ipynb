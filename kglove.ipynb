{
 "cells": [
  {
   "cell_type": "markdown",
   "id": "f7c6c6d4-0b21-4acb-b85e-c8114a6244f9",
   "metadata": {},
   "source": [
    "# Creation of Embeddings\n",
    "\n",
    "- This script produces embeddings for WN18 and FB15k "
   ]
  },
  {
   "cell_type": "code",
   "execution_count": 6,
   "id": "6eeb555e-e8fd-40b5-b67e-5d48b625fb57",
   "metadata": {},
   "outputs": [],
   "source": [
    "training_file_fb = \"/work/jportisc/kbc_rdf2vec/strategy_grid_2/evaluation_2/nt_files/FB15k.nt\"\n",
    "training_file_wn = \"/work/jportisc/kbc_rdf2vec/strategy_grid_2/evaluation_2/nt_files/WN18.nt\""
   ]
  },
  {
   "cell_type": "markdown",
   "id": "4a9cb10a-ff07-4860-b715-1788a075fb18",
   "metadata": {},
   "source": [
    "## KGloVe Training"
   ]
  },
  {
   "cell_type": "code",
   "execution_count": 46,
   "id": "6d4250ca-52d1-4a2d-a76b-efb62a9f6b41",
   "metadata": {},
   "outputs": [
    {
     "name": "stdout",
     "output_type": "stream",
     "text": [
      "/work-ceph/jportisc/code/kglove/kglove_jan/RDFConverter graph /work/jportisc/kbc_rdf2vec/strategy_grid_2/evaluation_2/nt_files/FB15k.nt mode 2\n"
     ]
    }
   ],
   "source": [
    "kglove_executable = \"/work-ceph/jportisc/code/kglove/kglove_jan/RDFConverter\"\n",
    "glove_executable = \"/work-ceph/jportisc/code/kglove/glove/GloVe-1.2/build/glove\"\n",
    "\n",
    "threads = 10\n",
    "vector_dimension = 200\n",
    "\n",
    "\"\"\"\n",
    "mode <0...7>\n",
    "        (0) Unif\n",
    "        (1) Pred\n",
    "        (2) InvPred\n",
    "        (3) Obj\n",
    "        (4) InvObj\n",
    "        (5) InvObjSD\n",
    "        (6) PredObj\n",
    "        (7) InvPredObj\n",
    "\"\"\"\n",
    "kglove_mode = 2\n",
    "\n",
    "kglove_vocab_result_path = \"glove_vocab_file_out_InvPred_alpha_0.10000000000000001_eps_1.0000000000000001e-05.bin\"\n",
    "kglove_input_file_result_path = \"glove_input_file_out_InvPred_alpha_0.10000000000000001_eps_1.0000000000000001e-05.bin\"\n",
    "\n",
    "fb_cmd_1 = f\"{kglove_executable} graph {training_file_fb} mode {kglove_mode}\"\n",
    "print(fb_cmd_1)"
   ]
  },
  {
   "cell_type": "markdown",
   "id": "270fc3e7-1b12-48bd-a43e-0fd98272ab2f",
   "metadata": {},
   "source": [
    "Now let's create the frequency file for FB:"
   ]
  },
  {
   "cell_type": "code",
   "execution_count": 8,
   "id": "270e8034-3bb0-47e8-a935-409669175636",
   "metadata": {},
   "outputs": [
    {
     "name": "stdout",
     "output_type": "stream",
     "text": [
      "Using graph file: '/work/jportisc/kbc_rdf2vec/strategy_grid_2/evaluation_2/nt_files/FB15k.nt'\n",
      "Using mode: 2\n",
      "2021-08-23 06:51:12 copying graph\n",
      "2021-08-23 06:51:12 copying graph - nodes copied\n",
      "2021-08-23 06:51:12 graph copied\n",
      "2021-08-23 06:51:12 After first fast phase, 131/14951 nodes are done, starting iterative phase\n",
      "2021-08-23 06:51:12 10000/14951 done\n",
      "2021-08-23 06:51:12 All done14951/14951 done\n",
      "writing to glove_input_file_out_InvPred_alpha_0.10000000000000001_eps_1.0000000000000001e-05.bin\n",
      "\tand glove_vocab_file_out_InvPred_alpha_0.10000000000000001_eps_1.0000000000000001e-05.bin\n",
      "2021-08-23 07:38:59 Processed 10000/14951 BCV computations\n"
     ]
    }
   ],
   "source": [
    "!$fb_cmd_1"
   ]
  },
  {
   "cell_type": "markdown",
   "id": "a319d968-9f98-46f2-abeb-4c228afa4162",
   "metadata": {},
   "source": [
    "Move frequency files to separate directory:"
   ]
  },
  {
   "cell_type": "code",
   "execution_count": 18,
   "id": "442b9ebd-fad5-4081-a376-466dd9613997",
   "metadata": {},
   "outputs": [],
   "source": [
    "kglove_fb = \"./kglove_fb\"\n",
    "\n",
    "from pathlib import Path\n",
    "\n",
    "def move_to_dir(directory_path: str, file_path: str):\n",
    "    # create directory if it does not exist\n",
    "    directory = Path(directory_path)\n",
    "    if not directory.is_dir():\n",
    "        directory.mkdir()\n",
    "    file = Path(file_path)\n",
    "    if file.is_file():\n",
    "        file.rename(directory.joinpath(file_path))\n",
    "    \n",
    "move_to_dir(directory_path=kglove_fb, file_path=kglove_vocab_result_path)\n",
    "move_to_dir(directory_path=kglove_fb, file_path=kglove_input_file_result_path)"
   ]
  },
  {
   "cell_type": "markdown",
   "id": "6e7dfdda-a34b-43d7-96de-60e0bbec58f2",
   "metadata": {},
   "source": [
    "Now let's create the frequency file for WN:"
   ]
  },
  {
   "cell_type": "code",
   "execution_count": 21,
   "id": "581e0dcd-ffe0-4817-b86e-adc7dcea97be",
   "metadata": {},
   "outputs": [
    {
     "name": "stdout",
     "output_type": "stream",
     "text": [
      "/work-ceph/jportisc/code/kglove/kglove_jan/RDFConverter graph /work/jportisc/kbc_rdf2vec/strategy_grid_2/evaluation_2/nt_files/WN18.nt mode 2\n"
     ]
    }
   ],
   "source": [
    "wn_cmd_1 = f\"{kglove_executable} graph {training_file_wn} mode {kglove_mode}\"\n",
    "print(wn_cmd_1)"
   ]
  },
  {
   "cell_type": "code",
   "execution_count": 23,
   "id": "15f8be05-5701-4b26-aa40-5b590d39397e",
   "metadata": {},
   "outputs": [
    {
     "name": "stdout",
     "output_type": "stream",
     "text": [
      "Using graph file: '/work/jportisc/kbc_rdf2vec/strategy_grid_2/evaluation_2/nt_files/WN18.nt'\n",
      "Using mode: 2\n",
      "2021-08-24 08:48:08 copying graph\n",
      "2021-08-24 08:48:08 copying graph - nodes copied\n",
      "2021-08-24 08:48:08 graph copied\n",
      "2021-08-24 08:48:08 After first fast phase, 214/40943 nodes are done, starting iterative phase\n",
      "2021-08-24 08:48:08 10000/40943 done\n",
      "2021-08-24 08:48:09 20000/40943 done\n",
      "2021-08-24 08:48:09 30000/40943 done\n",
      "2021-08-24 08:48:09 40000/40943 done\n",
      "2021-08-24 08:48:09 All done40943/40943 done\n",
      "writing to glove_input_file_out_InvPred_alpha_0.10000000000000001_eps_1.0000000000000001e-05.bin\n",
      "\tand glove_vocab_file_out_InvPred_alpha_0.10000000000000001_eps_1.0000000000000001e-05.bin\n",
      "2021-08-24 08:54:06 Processed 10000/40943 BCV computations\n",
      "2021-08-24 08:56:00 Processed 20000/40943 BCV computations\n",
      "2021-08-24 08:56:38 Processed 30000/40943 BCV computations\n",
      "2021-08-24 08:57:15 Processed 40000/40943 BCV computations\n"
     ]
    }
   ],
   "source": [
    "!$wn_cmd_1"
   ]
  },
  {
   "cell_type": "code",
   "execution_count": 26,
   "id": "612a90cf-200a-41dd-8f20-a27582e2327e",
   "metadata": {},
   "outputs": [],
   "source": [
    "kglove_wn = \"./kglove_wn\"\n",
    "\n",
    "move_to_dir(directory_path=kglove_wn, file_path=kglove_vocab_result_path)\n",
    "move_to_dir(directory_path=kglove_wn, file_path=kglove_input_file_result_path)"
   ]
  },
  {
   "cell_type": "markdown",
   "id": "740a6ad9-e5f2-4ede-934d-2602df70c989",
   "metadata": {},
   "source": [
    "Now let's actually train embeddings using GloVe:"
   ]
  },
  {
   "cell_type": "code",
   "execution_count": 40,
   "id": "db8696a7-d2b9-4d37-90b5-254e8f4da2b7",
   "metadata": {},
   "outputs": [],
   "source": [
    "from pathlib import Path\n",
    "\n",
    "def get_input_file_path(result_path: str) -> str:\n",
    "    result_dir = Path(result_path)\n",
    "    for file in result_dir.iterdir():\n",
    "        if \"glove_input_file_out\" in file.name:\n",
    "            return str(file.resolve())\n",
    "            \n",
    "def get_vocab_file_path(result_path: str) -> str:\n",
    "    result_dir = Path(result_path)\n",
    "    for file in result_dir.iterdir():\n",
    "        if \"glove_vocab_file_out\" in file.name:\n",
    "            return str(file.resolve())"
   ]
  },
  {
   "cell_type": "code",
   "execution_count": 72,
   "id": "43efebae-ad96-4f12-a57f-03be6f44d0ed",
   "metadata": {},
   "outputs": [
    {
     "name": "stdout",
     "output_type": "stream",
     "text": [
      "/work-ceph/jportisc/code/kglove/glove/GloVe-1.2/build/glove -input-file /home/jportisc/jupyter_notebooks/KBC_Journal/kglove_fb/glove_input_file_out_InvPred_alpha_0.10000000000000001_eps_1.0000000000000001e-05.bin -vocab-file /home/jportisc/jupyter_notebooks/KBC_Journal/kglove_fb/glove_vocab_file_out_InvPred_alpha_0.10000000000000001_eps_1.0000000000000001e-05.bin -save-file /home/jportisc/jupyter_notebooks/KBC_Journal/kglove_fb/vectors -iter 20 -threads 10 -vector-size 200 -binary 2\n"
     ]
    }
   ],
   "source": [
    "fb_input_file = get_input_file_path(result_path=kglove_fb)\n",
    "fb_vocab_file = get_vocab_file_path(result_path=kglove_fb)\n",
    "fb_save_file = str(Path(kglove_fb).joinpath(\"vectors\").resolve())\n",
    "\n",
    "\n",
    "fb_cmd_2 = f\"{glove_executable} -input-file {fb_input_file} -vocab-file {fb_vocab_file} -save-file {fb_save_file} -iter 20 -threads {threads} -vector-size {vector_dimension} -binary 2\"\n",
    "print(fb_cmd_2)"
   ]
  },
  {
   "cell_type": "code",
   "execution_count": 68,
   "id": "ea426871-068d-49c4-865a-82910ec9a040",
   "metadata": {},
   "outputs": [
    {
     "name": "stdout",
     "output_type": "stream",
     "text": [
      "TRAINING MODEL\n",
      "Read 126017904 lines.\n",
      "Initializing parameters...done.\n",
      "vector size: 200\n",
      "vocab size: 16296\n",
      "x_max: 100.000000\n",
      "alpha: 0.750000\n",
      "iter: 001, cost: 0.000493\n",
      "iter: 002, cost: 0.000432\n",
      "iter: 003, cost: 0.000383\n",
      "iter: 004, cost: 0.000345\n",
      "iter: 005, cost: 0.000314\n",
      "iter: 006, cost: 0.000288\n",
      "iter: 007, cost: 0.000267\n",
      "iter: 008, cost: 0.000249\n",
      "iter: 009, cost: 0.000235\n",
      "iter: 010, cost: 0.000222\n",
      "iter: 011, cost: 0.000211\n",
      "iter: 012, cost: 0.000202\n",
      "iter: 013, cost: 0.000194\n",
      "iter: 014, cost: 0.000187\n",
      "iter: 015, cost: 0.000181\n",
      "iter: 016, cost: 0.000176\n",
      "iter: 017, cost: 0.000171\n",
      "iter: 018, cost: 0.000167\n",
      "iter: 019, cost: 0.000163\n",
      "iter: 020, cost: 0.000159\n"
     ]
    }
   ],
   "source": [
    "!$fb_cmd_2"
   ]
  },
  {
   "cell_type": "code",
   "execution_count": 73,
   "id": "7f57c965-a3a9-4bb7-859f-81149f518e52",
   "metadata": {},
   "outputs": [
    {
     "name": "stdout",
     "output_type": "stream",
     "text": [
      "/work-ceph/jportisc/code/kglove/glove/GloVe-1.2/build/glove -input-file /home/jportisc/jupyter_notebooks/KBC_Journal/kglove_wn/glove_input_file_out_InvPred_alpha_0.10000000000000001_eps_1.0000000000000001e-05.bin -vocab-file /home/jportisc/jupyter_notebooks/KBC_Journal/kglove_wn/glove_vocab_file_out_InvPred_alpha_0.10000000000000001_eps_1.0000000000000001e-05.bin -save-file /home/jportisc/jupyter_notebooks/KBC_Journal/kglove_wn/vectors -iter 20 -threads 10 -vector-size 200 -binary 2\n"
     ]
    }
   ],
   "source": [
    "wn_input_file = get_input_file_path(result_path=kglove_wn)\n",
    "wn_vocab_file = get_vocab_file_path(result_path=kglove_wn)\n",
    "wn_save_file = str(Path(kglove_wn).joinpath(\"vectors\").resolve())\n",
    "\n",
    "wn_cmd_2 = f\"{glove_executable} -input-file {wn_input_file} -vocab-file {wn_vocab_file} -save-file {wn_save_file} -iter 20 -threads {threads} -vector-size {vector_dimension} -binary 2\"\n",
    "print(wn_cmd_2)"
   ]
  },
  {
   "cell_type": "code",
   "execution_count": 74,
   "id": "a75afca8-bf07-47a5-b181-a1c3ac9c3c4c",
   "metadata": {},
   "outputs": [
    {
     "name": "stdout",
     "output_type": "stream",
     "text": [
      "TRAINING MODEL\n",
      "Read 256884810 lines.\n",
      "Initializing parameters...done.\n",
      "vector size: 200\n",
      "vocab size: 40961\n",
      "x_max: 100.000000\n",
      "alpha: 0.750000\n",
      "iter: 001, cost: 0.000174\n",
      "iter: 002, cost: 0.000170\n",
      "iter: 003, cost: 0.000169\n",
      "iter: 004, cost: 0.000168\n",
      "iter: 005, cost: 0.000167\n",
      "iter: 006, cost: 0.000166\n",
      "iter: 007, cost: 0.000165\n",
      "iter: 008, cost: 0.000164\n",
      "iter: 009, cost: 0.000163\n",
      "iter: 010, cost: 0.000162\n",
      "iter: 011, cost: 0.000161\n",
      "iter: 012, cost: 0.000160\n",
      "iter: 013, cost: 0.000159\n",
      "iter: 014, cost: 0.000158\n",
      "iter: 015, cost: 0.000157\n",
      "iter: 016, cost: 0.000156\n",
      "iter: 017, cost: 0.000155\n",
      "iter: 018, cost: 0.000154\n",
      "iter: 019, cost: 0.000153\n",
      "iter: 020, cost: 0.000153\n"
     ]
    }
   ],
   "source": [
    "!$wn_cmd_2"
   ]
  },
  {
   "cell_type": "code",
   "execution_count": null,
   "id": "033eab85-34d7-44f9-a29e-dc416658e5b2",
   "metadata": {},
   "outputs": [],
   "source": []
  }
 ],
 "metadata": {
  "kernelspec": {
   "display_name": "Python 3",
   "language": "python",
   "name": "python3"
  },
  "language_info": {
   "codemirror_mode": {
    "name": "ipython",
    "version": 3
   },
   "file_extension": ".py",
   "mimetype": "text/x-python",
   "name": "python",
   "nbconvert_exporter": "python",
   "pygments_lexer": "ipython3",
   "version": "3.8.3"
  }
 },
 "nbformat": 4,
 "nbformat_minor": 5
}
