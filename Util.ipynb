{
 "cells": [
  {
   "cell_type": "code",
   "execution_count": 8,
   "metadata": {},
   "outputs": [
    {
     "name": "stdout",
     "output_type": "stream",
     "text": [
      "Reading provided file...\n",
      "2021-02-02 08:54:42,876 - kbc_evaluation.dataset - INFO - Apply Filtering\n",
      "100%|██████████| 59002/59002 [10:01<00:00, 98.17it/s]   \n",
      "Reading provided file...\n"
     ]
    }
   ],
   "source": [
    "from kbc_evaluation.util import Util\n",
    "from kbc_evaluation.dataset import DataSet\n",
    "\n",
    "\n",
    "# FB15K filtered\n",
    "\n",
    "Util.write_sample_predictions(\n",
    "    prediction_file = \"/work/jportisc/kbc_rdf2vec/strategy_grid_2/evaluation_2/predictions/fb15k_averaged_addition.txt\",\n",
    "    file_to_be_written = \"./filtered_predictions_fb15k_averaged_addition.txt\",\n",
    "    data_set=DataSet.FB15K,\n",
    "    is_apply_filtering=True,\n",
    "    top_predictions=10,\n",
    "    number_of_triples=1000,\n",
    ")\n",
    "\n",
    "# FB15K non-filtered\n",
    "\n",
    "Util.write_sample_predictions(\n",
    "    prediction_file = \"/work/jportisc/kbc_rdf2vec/strategy_grid_2/evaluation_2/predictions/fb15k_averaged_addition.txt\",\n",
    "    file_to_be_written = \"./non_filtered_predictions_fb15k_averaged_addition.txt\",\n",
    "    data_set=DataSet.FB15K,\n",
    "    is_apply_filtering=False,\n",
    "    top_predictions=10,\n",
    "    number_of_triples=1000,\n",
    ")\n"
   ]
  },
  {
   "cell_type": "code",
   "execution_count": 9,
   "metadata": {},
   "outputs": [
    {
     "name": "stdout",
     "output_type": "stream",
     "text": [
      "Reading provided file...\n",
      "2021-02-02 09:28:54,894 - kbc_evaluation.dataset - INFO - Apply Filtering\n",
      "100%|██████████| 5000/5000 [00:39<00:00, 126.45it/s]\n",
      "Reading provided file...\n"
     ]
    }
   ],
   "source": [
    "# WN filtered\n",
    "\n",
    "Util.write_sample_predictions(\n",
    "    prediction_file = \"/work/jportisc/kbc_rdf2vec/strategy_grid_2/evaluation_2/predictions/wn_averaged_addition.txt\",\n",
    "    file_to_be_written = \"./filtered_predictions_wn_averaged_addition.txt\",\n",
    "    data_set=DataSet.WN18,\n",
    "    is_apply_filtering=True,\n",
    "    top_predictions=10,\n",
    "    number_of_triples=1000,\n",
    ")\n",
    "\n",
    "# WN non-filtered\n",
    "\n",
    "Util.write_sample_predictions(\n",
    "    prediction_file = \"/work/jportisc/kbc_rdf2vec/strategy_grid_2/evaluation_2/predictions/wn_averaged_addition.txt\",\n",
    "    file_to_be_written = \"./non_filtered_predictions_wn_averaged_addition.txt\",\n",
    "    data_set=DataSet.WN18,\n",
    "    is_apply_filtering=False,\n",
    "    top_predictions=10,\n",
    "    number_of_triples=1000,\n",
    ")"
   ]
  },
  {
   "cell_type": "code",
   "execution_count": null,
   "metadata": {},
   "outputs": [],
   "source": []
  }
 ],
 "metadata": {
  "kernelspec": {
   "display_name": "Python 3",
   "language": "python",
   "name": "python3"
  },
  "language_info": {
   "codemirror_mode": {
    "name": "ipython",
    "version": 3
   },
   "file_extension": ".py",
   "mimetype": "text/x-python",
   "name": "python",
   "nbconvert_exporter": "python",
   "pygments_lexer": "ipython3",
   "version": "3.8.3"
  }
 },
 "nbformat": 4,
 "nbformat_minor": 4
}
